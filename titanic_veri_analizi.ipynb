{
 "cells": [
  {
   "cell_type": "code",
   "execution_count": 1,
   "id": "9dd97d3b-8c2f-45fd-b1bb-6c4d180b1627",
   "metadata": {},
   "outputs": [],
   "source": [
    "import pandas as pd\n",
    "pd.set_option('display.precision', 2)"
   ]
  },
  {
   "cell_type": "code",
   "execution_count": 3,
   "id": "53d70ef5-fd15-48bc-b7ea-354e497f79d1",
   "metadata": {},
   "outputs": [],
   "source": [
    "# Titanic verisi yükleme işlemi\n",
    "df = pd.read_csv(\"C:/Users/melik/Desktop/titanic/train.csv\")  "
   ]
  },
  {
   "cell_type": "code",
   "execution_count": 5,
   "id": "b776cc5c-21b0-433c-a213-498221ab5e27",
   "metadata": {},
   "outputs": [
    {
     "data": {
      "text/html": [
       "<div>\n",
       "<style scoped>\n",
       "    .dataframe tbody tr th:only-of-type {\n",
       "        vertical-align: middle;\n",
       "    }\n",
       "\n",
       "    .dataframe tbody tr th {\n",
       "        vertical-align: top;\n",
       "    }\n",
       "\n",
       "    .dataframe thead th {\n",
       "        text-align: right;\n",
       "    }\n",
       "</style>\n",
       "<table border=\"1\" class=\"dataframe\">\n",
       "  <thead>\n",
       "    <tr style=\"text-align: right;\">\n",
       "      <th></th>\n",
       "      <th>PassengerId</th>\n",
       "      <th>Survived</th>\n",
       "      <th>Pclass</th>\n",
       "      <th>Name</th>\n",
       "      <th>Sex</th>\n",
       "      <th>Age</th>\n",
       "      <th>SibSp</th>\n",
       "      <th>Parch</th>\n",
       "      <th>Ticket</th>\n",
       "      <th>Fare</th>\n",
       "      <th>Cabin</th>\n",
       "      <th>Embarked</th>\n",
       "    </tr>\n",
       "  </thead>\n",
       "  <tbody>\n",
       "    <tr>\n",
       "      <th>0</th>\n",
       "      <td>1</td>\n",
       "      <td>0</td>\n",
       "      <td>3</td>\n",
       "      <td>Braund, Mr. Owen Harris</td>\n",
       "      <td>male</td>\n",
       "      <td>22.0</td>\n",
       "      <td>1</td>\n",
       "      <td>0</td>\n",
       "      <td>A/5 21171</td>\n",
       "      <td>7.25</td>\n",
       "      <td>NaN</td>\n",
       "      <td>S</td>\n",
       "    </tr>\n",
       "    <tr>\n",
       "      <th>1</th>\n",
       "      <td>2</td>\n",
       "      <td>1</td>\n",
       "      <td>1</td>\n",
       "      <td>Cumings, Mrs. John Bradley (Florence Briggs Th...</td>\n",
       "      <td>female</td>\n",
       "      <td>38.0</td>\n",
       "      <td>1</td>\n",
       "      <td>0</td>\n",
       "      <td>PC 17599</td>\n",
       "      <td>71.28</td>\n",
       "      <td>C85</td>\n",
       "      <td>C</td>\n",
       "    </tr>\n",
       "    <tr>\n",
       "      <th>2</th>\n",
       "      <td>3</td>\n",
       "      <td>1</td>\n",
       "      <td>3</td>\n",
       "      <td>Heikkinen, Miss. Laina</td>\n",
       "      <td>female</td>\n",
       "      <td>26.0</td>\n",
       "      <td>0</td>\n",
       "      <td>0</td>\n",
       "      <td>STON/O2. 3101282</td>\n",
       "      <td>7.92</td>\n",
       "      <td>NaN</td>\n",
       "      <td>S</td>\n",
       "    </tr>\n",
       "    <tr>\n",
       "      <th>3</th>\n",
       "      <td>4</td>\n",
       "      <td>1</td>\n",
       "      <td>1</td>\n",
       "      <td>Futrelle, Mrs. Jacques Heath (Lily May Peel)</td>\n",
       "      <td>female</td>\n",
       "      <td>35.0</td>\n",
       "      <td>1</td>\n",
       "      <td>0</td>\n",
       "      <td>113803</td>\n",
       "      <td>53.10</td>\n",
       "      <td>C123</td>\n",
       "      <td>S</td>\n",
       "    </tr>\n",
       "    <tr>\n",
       "      <th>4</th>\n",
       "      <td>5</td>\n",
       "      <td>0</td>\n",
       "      <td>3</td>\n",
       "      <td>Allen, Mr. William Henry</td>\n",
       "      <td>male</td>\n",
       "      <td>35.0</td>\n",
       "      <td>0</td>\n",
       "      <td>0</td>\n",
       "      <td>373450</td>\n",
       "      <td>8.05</td>\n",
       "      <td>NaN</td>\n",
       "      <td>S</td>\n",
       "    </tr>\n",
       "  </tbody>\n",
       "</table>\n",
       "</div>"
      ],
      "text/plain": [
       "   PassengerId  Survived  Pclass  \\\n",
       "0            1         0       3   \n",
       "1            2         1       1   \n",
       "2            3         1       3   \n",
       "3            4         1       1   \n",
       "4            5         0       3   \n",
       "\n",
       "                                                Name     Sex   Age  SibSp  \\\n",
       "0                            Braund, Mr. Owen Harris    male  22.0      1   \n",
       "1  Cumings, Mrs. John Bradley (Florence Briggs Th...  female  38.0      1   \n",
       "2                             Heikkinen, Miss. Laina  female  26.0      0   \n",
       "3       Futrelle, Mrs. Jacques Heath (Lily May Peel)  female  35.0      1   \n",
       "4                           Allen, Mr. William Henry    male  35.0      0   \n",
       "\n",
       "   Parch            Ticket   Fare Cabin Embarked  \n",
       "0      0         A/5 21171   7.25   NaN        S  \n",
       "1      0          PC 17599  71.28   C85        C  \n",
       "2      0  STON/O2. 3101282   7.92   NaN        S  \n",
       "3      0            113803  53.10  C123        S  \n",
       "4      0            373450   8.05   NaN        S  "
      ]
     },
     "execution_count": 5,
     "metadata": {},
     "output_type": "execute_result"
    }
   ],
   "source": [
    "df.head()"
   ]
  },
  {
   "cell_type": "markdown",
   "id": "168cc9fc-cc3c-4090-be61-cab14368b398",
   "metadata": {},
   "source": [
    "##### 1. Ölenlerin yaş ortalaması (Survived = 0 olanlar)"
   ]
  },
  {
   "cell_type": "code",
   "execution_count": 8,
   "id": "1b07a02c-120e-4e44-9464-68f6d46dc72f",
   "metadata": {},
   "outputs": [
    {
     "name": "stdout",
     "output_type": "stream",
     "text": [
      "Kazada ölenlerin yaş ortalaması: 30.62617924528302\n"
     ]
    }
   ],
   "source": [
    "olenlerin_yas_ortalama = df[df[\"Survived\"] == 0][\"Age\"].mean()\n",
    "print(\"Kazada ölenlerin yaş ortalaması:\", olenlerin_yas_ortalama)"
   ]
  },
  {
   "cell_type": "markdown",
   "id": "1f6ec9d3-31de-46c5-8bb0-0cda0bfb5365",
   "metadata": {},
   "source": [
    "##### 2.Kazada ölenlerin bilet fiyatlarının ortalaması ve medyanı"
   ]
  },
  {
   "cell_type": "code",
   "execution_count": 11,
   "id": "96567e16-6cdd-4ac9-939a-420c7b803521",
   "metadata": {},
   "outputs": [
    {
     "name": "stdout",
     "output_type": "stream",
     "text": [
      "Ortalama: 22.117886885245902\n",
      "Medyan: 10.5\n"
     ]
    }
   ],
   "source": [
    "olenlerin_bilet = df[df[\"Survived\"] == 0][\"Fare\"]\n",
    "print(\"Ortalama:\", olenlerin_bilet.mean())\n",
    "print(\"Medyan:\", olenlerin_bilet.median())"
   ]
  },
  {
   "cell_type": "markdown",
   "id": "64e30f7a-0ebb-4a9a-9ed9-e888c56e4c11",
   "metadata": {},
   "source": [
    "##### 3.Kazada ölen erkeklerin yaş ortalaması"
   ]
  },
  {
   "cell_type": "code",
   "execution_count": 14,
   "id": "f0acf873-d80f-4831-80a8-224a0feb1ea0",
   "metadata": {},
   "outputs": [
    {
     "name": "stdout",
     "output_type": "stream",
     "text": [
      "Ölen erkeklerin yaş ortalaması: 31.618055555555557\n"
     ]
    }
   ],
   "source": [
    "olen_erkek_yas = df[(df[\"Survived\"] == 0) & (df[\"Sex\"] == \"male\")][\"Age\"].mean()\n",
    "print(\"Ölen erkeklerin yaş ortalaması:\", olen_erkek_yas)"
   ]
  },
  {
   "cell_type": "markdown",
   "id": "9db2d71e-d1a4-47fb-a74c-06565f005d1d",
   "metadata": {},
   "source": [
    "##### 4.Kazada ölen kadınların yaş ortalaması"
   ]
  },
  {
   "cell_type": "code",
   "execution_count": 17,
   "id": "c6502a5e-5184-4e00-b501-a817463e8f98",
   "metadata": {},
   "outputs": [
    {
     "name": "stdout",
     "output_type": "stream",
     "text": [
      "Ölen kadınların yaş ortalaması: 25.046875\n"
     ]
    }
   ],
   "source": [
    "olen_kadin_yas = df[(df[\"Survived\"] == 0) & (df[\"Sex\"] == \"female\")][\"Age\"].mean()\n",
    "print(\"Ölen kadınların yaş ortalaması:\", olen_kadin_yas)"
   ]
  },
  {
   "cell_type": "markdown",
   "id": "20d50945-fe44-4f42-98b1-751fa229d087",
   "metadata": {},
   "source": [
    "##### 5.Kazadan kurtulanların yaş ortalaması"
   ]
  },
  {
   "cell_type": "code",
   "execution_count": 20,
   "id": "bf4c7faf-d996-4eb3-86b2-0cec3cdc8ee1",
   "metadata": {},
   "outputs": [
    {
     "name": "stdout",
     "output_type": "stream",
     "text": [
      "Kazadan kurtulanların yaş ortalaması: 28.343689655172415\n"
     ]
    }
   ],
   "source": [
    "kurtulan_yas_ortalama = df[df[\"Survived\"] == 1][\"Age\"].mean()\n",
    "print(\"Kazadan kurtulanların yaş ortalaması:\", kurtulan_yas_ortalama)"
   ]
  },
  {
   "cell_type": "markdown",
   "id": "32698ada-d0f0-4de9-9731-e8e64e30fcf7",
   "metadata": {},
   "source": [
    "##### 6.Kazadan kurtulanların bilet fiyatlarının ortalamas"
   ]
  },
  {
   "cell_type": "code",
   "execution_count": 23,
   "id": "91d59a44-b2a3-4526-920a-846a95b4493f",
   "metadata": {},
   "outputs": [
    {
     "name": "stdout",
     "output_type": "stream",
     "text": [
      "Kazadan kurtulanların bilet fiyatı ortalaması: 48.39540760233918\n"
     ]
    }
   ],
   "source": [
    "kurtulan_bilet = df[df[\"Survived\"] == 1][\"Fare\"].mean()\n",
    "print(\"Kazadan kurtulanların bilet fiyatı ortalaması:\", kurtulan_bilet)"
   ]
  },
  {
   "cell_type": "markdown",
   "id": "19cb83ef-6ba9-4021-abaa-eef9cd332c0c",
   "metadata": {},
   "source": [
    "##### 7. Kazadan kurtulan toplam kişi sayısı"
   ]
  },
  {
   "cell_type": "code",
   "execution_count": 26,
   "id": "9435b262-d26e-438e-abd9-080fa8fb0f50",
   "metadata": {},
   "outputs": [
    {
     "name": "stdout",
     "output_type": "stream",
     "text": [
      "Kurtulan kişi sayısı: 342\n"
     ]
    }
   ],
   "source": [
    "kurtulan_sayi = len(df[df[\"Survived\"] == 1])\n",
    "print(\"Kurtulan kişi sayısı:\", kurtulan_sayi)"
   ]
  },
  {
   "cell_type": "markdown",
   "id": "619c90f1-6772-4914-999a-d39e530798b9",
   "metadata": {},
   "source": [
    "##### 8. 10 yaşından küçüklerin bilet fiyatlarının medyan değeri"
   ]
  },
  {
   "cell_type": "code",
   "execution_count": 29,
   "id": "96db8e7a-02b2-4adc-a9d3-71e29daf6273",
   "metadata": {},
   "outputs": [
    {
     "name": "stdout",
     "output_type": "stream",
     "text": [
      "10 yaş altı yolcuların bilet fiyatı medyanı: 27.0\n"
     ]
    }
   ],
   "source": [
    "kucuk_10_bilet = df[df[\"Age\"] < 10][\"Fare\"].median()\n",
    "print(\"10 yaş altı yolcuların bilet fiyatı medyanı:\", kucuk_10_bilet)"
   ]
  },
  {
   "cell_type": "markdown",
   "id": "da9a9efb-4757-480b-8c03-39f0f8270016",
   "metadata": {},
   "source": [
    "##### 9. 1. sınıf, 2. sınıf ve 3. sınıf bilet fiyatlarının ortalama ve medyanlarının karşılaştırılması"
   ]
  },
  {
   "cell_type": "code",
   "execution_count": 32,
   "id": "68cca250-35b2-4156-8b42-fc51513c146e",
   "metadata": {},
   "outputs": [
    {
     "name": "stdout",
     "output_type": "stream",
     "text": [
      "1. sınıf - Ortalama: 84.15, Medyan: 60.29\n",
      "2. sınıf - Ortalama: 20.66, Medyan: 14.25\n",
      "3. sınıf - Ortalama: 13.68, Medyan: 8.05\n"
     ]
    }
   ],
   "source": [
    "for sinif in sorted(df[\"Pclass\"].unique()):\n",
    "    sinif_df = df[df[\"Pclass\"] == sinif][\"Fare\"]\n",
    "    print(f\"{sinif}. sınıf - Ortalama: {sinif_df.mean():.2f}, Medyan: {sinif_df.median():.2f}\")"
   ]
  },
  {
   "cell_type": "markdown",
   "id": "1a4a9e7c-b3c9-4033-9e67-a0fb2b780817",
   "metadata": {},
   "source": [
    "##### 10. Kazada ölen kadınların oranı ile erkeklerin oranının karşılaştırılması"
   ]
  },
  {
   "cell_type": "code",
   "execution_count": 35,
   "id": "e8742257-c91f-4207-9324-91b3a6bcb84b",
   "metadata": {},
   "outputs": [
    {
     "name": "stdout",
     "output_type": "stream",
     "text": [
      "Ölen kadın oranı: 25.80%\n",
      "Ölen erkek oranı: 81.11%\n"
     ]
    }
   ],
   "source": [
    "olen_kadin_orani = len(df[(df[\"Survived\"] == 0) & (df[\"Sex\"] == \"female\")]) / len(df[df[\"Sex\"] == \"female\"])\n",
    "olen_erkek_orani = len(df[(df[\"Survived\"] == 0) & (df[\"Sex\"] == \"male\")]) / len(df[df[\"Sex\"] == \"male\"])\n",
    "\n",
    "print(f\"Ölen kadın oranı: {olen_kadin_orani:.2%}\")\n",
    "print(f\"Ölen erkek oranı: {olen_erkek_orani:.2%}\")"
   ]
  }
 ],
 "metadata": {
  "kernelspec": {
   "display_name": "Python 3 (ipykernel)",
   "language": "python",
   "name": "python3"
  },
  "language_info": {
   "codemirror_mode": {
    "name": "ipython",
    "version": 3
   },
   "file_extension": ".py",
   "mimetype": "text/x-python",
   "name": "python",
   "nbconvert_exporter": "python",
   "pygments_lexer": "ipython3",
   "version": "3.12.4"
  }
 },
 "nbformat": 4,
 "nbformat_minor": 5
}
